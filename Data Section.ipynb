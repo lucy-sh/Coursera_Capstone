{
 "cells": [
  {
   "cell_type": "markdown",
   "metadata": {},
   "source": [
    "## Data Description"
   ]
  },
  {
   "cell_type": "markdown",
   "metadata": {},
   "source": [
    "### A.\tData Source"
   ]
  },
  {
   "cell_type": "markdown",
   "metadata": {},
   "source": [
    "The data used for this project is the example dataset (https://s3.us.cloud-object-storage.appdomain.cloud/cf-courses-data/CognitiveClass/DP0701EN/version-2/Data-Collisions.csv) from Coursera course: applied data science capstone. It contains traffic collisions data provided by SPD and recorded by Traffic Records in Seattle from 2004 to present. "
   ]
  },
  {
   "cell_type": "markdown",
   "metadata": {},
   "source": [
    "### B.\tFeature Selections"
   ]
  },
  {
   "cell_type": "markdown",
   "metadata": {},
   "source": [
    "The factors in this dataset that will influence the possibility of a car accident are:\\\n",
    "•\tCollision address type: alley, block, or intersection\\\n",
    "•\tWhether or not collision was due to inattention\\\n",
    "•\tWhether or not a driver involved was under the influence of drugs or alcohol\\\n",
    "•\tWhether or not speeding was a factor in the collision\\\n",
    "•\tWeather conditions\\\n",
    "•\tRoad conditions\\\n",
    "•\tLight conditions during the collision\n",
    "\n",
    "This project aims to predict accident severity base on objective features: collision address, weather conditions, road conditions, and light conditions. \n"
   ]
  },
  {
   "cell_type": "markdown",
   "metadata": {},
   "source": [
    "### C.\tData Cleaning"
   ]
  },
  {
   "cell_type": "markdown",
   "metadata": {},
   "source": [
    "#### 1.\tRemove collision that possibility caused by inattention, drugs or alcohol influence, and speeding."
   ]
  },
  {
   "cell_type": "markdown",
   "metadata": {},
   "source": [
    "The above features data contained problems of missing values and data formatting. All missing values were treated as “0”, and “Y” values were treated as “1”, converting these to two values: 0 and 1. The rows where contain “1” were dropped. The modified dataset only had the rows where above features’ value equal to 0, meaning the collisions were not attributed from inattention, influence of drugs or alcohol, and speeding.  Then, revised columns were removed for further process."
   ]
  },
  {
   "cell_type": "markdown",
   "metadata": {},
   "source": [
    "#### 2.\tBalance the data"
   ]
  },
  {
   "cell_type": "markdown",
   "metadata": {},
   "source": [
    "The modified dataset had 107,387 data for severity 1, and 41,928 data for severity 2, indicating the dataset was unbalanced. Under-sampling method was used to balance the data."
   ]
  },
  {
   "cell_type": "markdown",
   "metadata": {},
   "source": [
    "#### 3.\tConvert categorical data to numerical data"
   ]
  },
  {
   "cell_type": "markdown",
   "metadata": {},
   "source": [
    "The columns data except for severity were all categorical. Converting them to numerical data would be a lot easier for further modeling process."
   ]
  },
  {
   "cell_type": "markdown",
   "metadata": {},
   "source": [
    "#### 4.\tCheck for missing values"
   ]
  },
  {
   "cell_type": "markdown",
   "metadata": {},
   "source": [
    "There were no missing values in modified dataset. "
   ]
  },
  {
   "cell_type": "code",
   "execution_count": null,
   "metadata": {},
   "outputs": [],
   "source": []
  }
 ],
 "metadata": {
  "kernelspec": {
   "display_name": "Python",
   "language": "python",
   "name": "conda-env-python-py"
  },
  "language_info": {
   "codemirror_mode": {
    "name": "ipython",
    "version": 3
   },
   "file_extension": ".py",
   "mimetype": "text/x-python",
   "name": "python",
   "nbconvert_exporter": "python",
   "pygments_lexer": "ipython3",
   "version": "3.6.11"
  }
 },
 "nbformat": 4,
 "nbformat_minor": 4
}
