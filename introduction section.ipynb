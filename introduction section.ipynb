{
 "cells": [
  {
   "cell_type": "markdown",
   "metadata": {},
   "source": [
    "## Introduction: Business Problem"
   ]
  },
  {
   "cell_type": "markdown",
   "metadata": {},
   "source": [
    "U.S. drivers’ mileage has been climbing steadily since 2012. With more people on the roads, more accidents start to occur. The most recent data available shows that there are approximately 17 thousand traffic crashes each day nationwide. The significant increase of accident frequency leads to margins shrink for auto insurers. Insurance companies are processing thousands of claims, dealing with millions of losses every day. Although the number of car accidents seem to decrease for the last two years, the fact that around 36,560 motor vehicle deaths in 2018 is still a problem of concern. A drunk driver, speeding, bumpy road condition, or bad weather could all end up leading to a deadly accident. In fact, there are a lot of attributes that could cause a server car crush. By accurately predicting the possibility of getting into a car accident and how severe it would be, proper driving guidelines could be promoted to potentially change people’s driving attitude and behaviors - bringing with it reducing cost for auto insurers, and fatalities rate."
   ]
  },
  {
   "cell_type": "code",
   "execution_count": null,
   "metadata": {},
   "outputs": [],
   "source": []
  }
 ],
 "metadata": {
  "kernelspec": {
   "display_name": "Python",
   "language": "python",
   "name": "conda-env-python-py"
  },
  "language_info": {
   "codemirror_mode": {
    "name": "ipython",
    "version": 3
   },
   "file_extension": ".py",
   "mimetype": "text/x-python",
   "name": "python",
   "nbconvert_exporter": "python",
   "pygments_lexer": "ipython3",
   "version": "3.6.11"
  }
 },
 "nbformat": 4,
 "nbformat_minor": 4
}
